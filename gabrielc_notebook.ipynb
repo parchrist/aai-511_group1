{
 "cells": [
  {
   "cell_type": "code",
   "execution_count": 18,
   "metadata": {},
   "outputs": [],
   "source": [
    "import pandas as pd\n",
    "import numpy as np\n",
    "import seaborn as sns\n",
    "import matplotlib.pyplot as plt\n",
    "%matplotlib inline\n",
    "plt.style.use('fivethirtyeight')\n",
    "sns.set_theme(style='whitegrid', palette='deep')\n",
    "\n",
    "import os\n",
    "import mido\n",
    "import pretty_midi as pm\n",
    "\n",
    "from sklearn.model_selection import train_test_split\n",
    "from sklearn.preprocessing import LabelEncoder, StandardScaler, OneHotEncoder\n",
    "from sklearn.compose import ColumnTransformer\n",
    "from sklearn.pipeline import Pipeline\n",
    "from tensorflow.keras.models import Sequential, load_model\n",
    "from tensorflow.keras.layers import LSTM, Dense, Dropout\n",
    "\n",
    "import tensorflow as tf\n",
    "# import torch as pt\n",
    "import joblib\n",
    "import streamlit as st\n",
    "\n",
    "import warnings\n",
    "warnings.filterwarnings('ignore', category=FutureWarning)"
   ]
  },
  {
   "cell_type": "markdown",
   "metadata": {},
   "source": [
    "Things to check: \n",
    "- are all midi files being pulled "
   ]
  },
  {
   "cell_type": "code",
   "execution_count": 20,
   "metadata": {},
   "outputs": [
    {
     "name": "stderr",
     "output_type": "stream",
     "text": [
      "c:\\Users\\tehwh\\anaconda3\\envs\\ml\\lib\\site-packages\\pretty_midi\\pretty_midi.py:100: RuntimeWarning: Tempo, Key or Time signature change events found on non-zero tracks.  This is not a valid type 0 or type 1 MIDI file.  Tempo, Key or Time Signature may be wrong.\n",
      "  warnings.warn(\n"
     ]
    },
    {
     "name": "stdout",
     "output_type": "stream",
     "text": [
      "Bach DataFrame:\n",
      "      file_name  num_tracks  ticks_per_beat     length  num_notes  \\\n",
      "0  003706b_.mid           5            1024  46.956456        304   \n",
      "1  003806b_.mid           5            1024  45.000610        253   \n",
      "2  003907bv.mid           5            1024  42.500610        285   \n",
      "3  003907b_.mid           5            1024  42.500610        285   \n",
      "4  004003b_.mid           5            1024  30.000000        204   \n",
      "\n",
      "   note_density  avg_velocity  key_signature       time_signature      tempo  \\\n",
      "0      6.474083          96.0            9.0  4/4 at 0.00 seconds  92.000129   \n",
      "1      5.622222          96.0           21.0  4/4 at 0.00 seconds  96.000000   \n",
      "2      6.705882          96.0            7.0  4/4 at 0.00 seconds  96.000000   \n",
      "3      6.705882          96.0           10.0  4/4 at 0.00 seconds  96.000000   \n",
      "4      6.800000          96.0           19.0  4/4 at 0.00 seconds  96.000000   \n",
      "\n",
      "  composer  \n",
      "0     Bach  \n",
      "1     Bach  \n",
      "2     Bach  \n",
      "3     Bach  \n",
      "4     Bach  \n",
      "Error processing file C:\\Git_hub_repos\\aai-511_group1\\midiclassics\\Beethoven\\Anhang 14-3.mid: Could not decode key with 3 flats and mode 255\n"
     ]
    },
    {
     "name": "stderr",
     "output_type": "stream",
     "text": [
      "c:\\Users\\tehwh\\anaconda3\\envs\\ml\\lib\\site-packages\\pretty_midi\\pretty_midi.py:100: RuntimeWarning: Tempo, Key or Time signature change events found on non-zero tracks.  This is not a valid type 0 or type 1 MIDI file.  Tempo, Key or Time Signature may be wrong.\n",
      "  warnings.warn(\n"
     ]
    },
    {
     "name": "stdout",
     "output_type": "stream",
     "text": [
      "Beethoven DataFrame:\n",
      "                      file_name  num_tracks  ticks_per_beat      length  \\\n",
      "0                       122.MID           3             384  397.827695   \n",
      "1                        13.MID          35             240  637.214819   \n",
      "2                       134.MID          11             240  426.351189   \n",
      "3                       136.MID           5              48  663.034478   \n",
      "4  32 Variations on a theme.mid           4             480  618.942806   \n",
      "\n",
      "   num_notes  note_density  avg_velocity  key_signature       time_signature  \\\n",
      "0       6311     15.914497     57.231817            NaN  4/4 at 0.00 seconds   \n",
      "1      36637     57.495524    103.136829            NaN  4/4 at 0.00 seconds   \n",
      "2       7220     17.032525     49.801939            NaN  2/4 at 0.00 seconds   \n",
      "3       8437     12.724828     64.913239           10.0  3/4 at 0.00 seconds   \n",
      "4       7318     11.823386     69.349412            0.0  3/4 at 0.00 seconds   \n",
      "\n",
      "        tempo   composer  \n",
      "0  236.031833  Beethoven  \n",
      "1  167.999933  Beethoven  \n",
      "2  120.000000  Beethoven  \n",
      "3  109.999908  Beethoven  \n",
      "4  120.000000  Beethoven  \n"
     ]
    },
    {
     "name": "stderr",
     "output_type": "stream",
     "text": [
      "c:\\Users\\tehwh\\anaconda3\\envs\\ml\\lib\\site-packages\\pretty_midi\\pretty_midi.py:100: RuntimeWarning: Tempo, Key or Time signature change events found on non-zero tracks.  This is not a valid type 0 or type 1 MIDI file.  Tempo, Key or Time Signature may be wrong.\n",
      "  warnings.warn(\n"
     ]
    },
    {
     "name": "stdout",
     "output_type": "stream",
     "text": [
      "Chopin DataFrame:\n",
      "                                           file_name  num_tracks  \\\n",
      "0   (2542)Prelude opus.28, No.16 in B flat minor.mid           2   \n",
      "1  19 Polish Songs, for Solo Voice and Piano acco...           3   \n",
      "2  19 Polish Songs, for Solo Voice and Piano acco...           3   \n",
      "3  19 Polish Songs, for Solo Voice and Piano acco...           3   \n",
      "4  19 Polish Songs, for Solo Voice and Piano acco...           3   \n",
      "\n",
      "   ticks_per_beat      length  num_notes  note_density  avg_velocity  \\\n",
      "0            1024   64.000262       1199     18.734394     63.552961   \n",
      "1             480  108.675018       1742     16.142204     97.889782   \n",
      "2             480   58.162016        669     11.527386     87.372197   \n",
      "3             480  122.586853        682      5.587330    100.079179   \n",
      "4             480  241.889534       1062      4.391190    100.000000   \n",
      "\n",
      "   key_signature       time_signature       tempo composer  \n",
      "0           22.0  6/4 at 0.00 seconds  180.000180   Chopin  \n",
      "1            NaN  6/8 at 0.00 seconds  144.053127   Chopin  \n",
      "2            NaN  2/4 at 0.00 seconds  100.031843   Chopin  \n",
      "3            NaN  3/4 at 0.00 seconds  120.007440   Chopin  \n",
      "4            NaN  2/4 at 0.00 seconds   63.003966   Chopin  \n"
     ]
    },
    {
     "name": "stderr",
     "output_type": "stream",
     "text": [
      "c:\\Users\\tehwh\\anaconda3\\envs\\ml\\lib\\site-packages\\pretty_midi\\pretty_midi.py:100: RuntimeWarning: Tempo, Key or Time signature change events found on non-zero tracks.  This is not a valid type 0 or type 1 MIDI file.  Tempo, Key or Time Signature may be wrong.\n",
      "  warnings.warn(\n"
     ]
    },
    {
     "name": "stdout",
     "output_type": "stream",
     "text": [
      "Error processing file C:\\Git_hub_repos\\aai-511_group1\\midiclassics\\Mozart\\K281 Piano Sonata n03 3mov.mid: Could not decode key with 2 flats and mode 2\n",
      "Mozart DataFrame:\n",
      "                           file_name  num_tracks  ticks_per_beat      length  \\\n",
      "0        A piece for Piano,K.176.mid           4             240  116.503280   \n",
      "1               Adagio in B flat.mid           6             480  716.505484   \n",
      "2  Another piece for Piano,K.176.mid           4             240  128.892212   \n",
      "3                 Contradance n1.mid           3             120   34.904511   \n",
      "4                 Contradance n2.mid           3             120   59.256950   \n",
      "\n",
      "   num_notes  note_density  avg_velocity  key_signature       time_signature  \\\n",
      "0        881      7.577629     64.000000            NaN  3/4 at 0.00 seconds   \n",
      "1       3332      4.650348     81.130552            2.0  4/4 at 0.00 seconds   \n",
      "2       1139      8.836841     64.000000            NaN  3/4 at 0.00 seconds   \n",
      "3        302      8.652177    127.000000            7.0  2/4 at 0.00 seconds   \n",
      "4        378      6.378999    127.000000            9.0  2/4 at 0.00 seconds   \n",
      "\n",
      "        tempo composer  \n",
      "0  125.000000   Mozart  \n",
      "1   35.999993   Mozart  \n",
      "2  137.999876   Mozart  \n",
      "3  110.000110   Mozart  \n",
      "4  130.000130   Mozart  \n",
      "Merged DataFrame:\n",
      "      file_name  num_tracks  ticks_per_beat     length  num_notes  \\\n",
      "0  003706b_.mid           5            1024  46.956456        304   \n",
      "1  003806b_.mid           5            1024  45.000610        253   \n",
      "2  003907bv.mid           5            1024  42.500610        285   \n",
      "3  003907b_.mid           5            1024  42.500610        285   \n",
      "4  004003b_.mid           5            1024  30.000000        204   \n",
      "\n",
      "   note_density  avg_velocity  key_signature       time_signature      tempo  \\\n",
      "0      6.474083          96.0            9.0  4/4 at 0.00 seconds  92.000129   \n",
      "1      5.622222          96.0           21.0  4/4 at 0.00 seconds  96.000000   \n",
      "2      6.705882          96.0            7.0  4/4 at 0.00 seconds  96.000000   \n",
      "3      6.705882          96.0           10.0  4/4 at 0.00 seconds  96.000000   \n",
      "4      6.800000          96.0           19.0  4/4 at 0.00 seconds  96.000000   \n",
      "\n",
      "  composer  \n",
      "0     Bach  \n",
      "1     Bach  \n",
      "2     Bach  \n",
      "3     Bach  \n",
      "4     Bach  \n"
     ]
    }
   ],
   "source": [
    "def extract_basic_features(file_path):\n",
    "    mid = mido.MidiFile(file_path)\n",
    "    features = {\n",
    "        'file_name': os.path.basename(file_path),\n",
    "        'num_tracks': len(mid.tracks),\n",
    "        'ticks_per_beat': mid.ticks_per_beat,\n",
    "        'length': mid.length,\n",
    "    }\n",
    "    return features\n",
    "\n",
    "def extract_pretty_midi_features(file_path):\n",
    "    midi_data = pm.PrettyMIDI(file_path)\n",
    "    features = {\n",
    "        'num_notes': sum(len(instrument.notes) for instrument in midi_data.instruments),\n",
    "        'note_density': sum(len(instrument.notes) for instrument in midi_data.instruments) / midi_data.get_end_time(),\n",
    "        'avg_velocity': (sum(note.velocity for instrument in midi_data.instruments for note in instrument.notes) /\n",
    "                         sum(len(instrument.notes) for instrument in midi_data.instruments)),\n",
    "        'key_signature': None,\n",
    "        'time_signature': None,\n",
    "        'tempo': None\n",
    "    }\n",
    "    \n",
    "    if midi_data.key_signature_changes:\n",
    "        try:\n",
    "            features['key_signature'] = midi_data.key_signature_changes[0].key_number\n",
    "        except KeyError:\n",
    "            features['key_signature'] = 'Unknown'\n",
    "    \n",
    "    if midi_data.time_signature_changes:\n",
    "        features['time_signature'] = str(midi_data.time_signature_changes[0])\n",
    "    \n",
    "    if midi_data.get_tempo_changes()[1].size > 0:\n",
    "        features['tempo'] = midi_data.get_tempo_changes()[1][0]\n",
    "    \n",
    "    return features\n",
    "\n",
    "def get_composer_from_filename(file_path):\n",
    "    return os.path.basename(file_path).split('_')[0]\n",
    "\n",
    "def load_midi_files_to_dataframe(directory_path, composer):\n",
    "    midi_files = [os.path.join(directory_path, f) for f in os.listdir(directory_path) if f.lower().endswith(('.mid', '.midi'))]\n",
    "    data = []\n",
    "    for file in midi_files:\n",
    "        try:\n",
    "            basic_features = extract_basic_features(file)\n",
    "            pretty_midi_features = extract_pretty_midi_features(file)\n",
    "            features = {**basic_features, **pretty_midi_features, 'composer': composer}\n",
    "            data.append(features)\n",
    "        except Exception as e:\n",
    "            print(f\"Error processing file {file}: {e}\")\n",
    "    df = pd.DataFrame(data)\n",
    "    return df\n",
    "\n",
    "# Specify the parent directory containing composer folders\n",
    "parent_directory = 'C:\\\\Git_hub_repos\\\\aai-511_group1\\\\midiclassics'\n",
    "\n",
    "# List of composers (folder names)\n",
    "composers = ['Bach', 'Beethoven', 'Chopin', 'Mozart']\n",
    "\n",
    "# Dictionary to hold DataFrames for each composer\n",
    "composer_dataframes = {}\n",
    "\n",
    "# Process each composer's folder\n",
    "for composer in composers:\n",
    "    composer_folder = os.path.join(parent_directory, composer)\n",
    "    composer_df = load_midi_files_to_dataframe(composer_folder, composer)\n",
    "    composer_dataframes[composer] = composer_df\n",
    "    print(f\"{composer} DataFrame:\")\n",
    "    print(composer_df.head())\n",
    "\n",
    "# Merge all DataFrames into a single DataFrame\n",
    "all_composers_df = pd.concat(composer_dataframes.values(), ignore_index=True)\n",
    "\n",
    "# Display the merged DataFrame\n",
    "print(\"Merged DataFrame:\")\n",
    "print(all_composers_df.head())"
   ]
  },
  {
   "cell_type": "code",
   "execution_count": 21,
   "metadata": {},
   "outputs": [
    {
     "data": {
      "text/html": [
       "<div>\n",
       "<style scoped>\n",
       "    .dataframe tbody tr th:only-of-type {\n",
       "        vertical-align: middle;\n",
       "    }\n",
       "\n",
       "    .dataframe tbody tr th {\n",
       "        vertical-align: top;\n",
       "    }\n",
       "\n",
       "    .dataframe thead th {\n",
       "        text-align: right;\n",
       "    }\n",
       "</style>\n",
       "<table border=\"1\" class=\"dataframe\">\n",
       "  <thead>\n",
       "    <tr style=\"text-align: right;\">\n",
       "      <th></th>\n",
       "      <th>file_name</th>\n",
       "      <th>num_tracks</th>\n",
       "      <th>ticks_per_beat</th>\n",
       "      <th>length</th>\n",
       "      <th>num_notes</th>\n",
       "      <th>note_density</th>\n",
       "      <th>avg_velocity</th>\n",
       "      <th>key_signature</th>\n",
       "      <th>time_signature</th>\n",
       "      <th>tempo</th>\n",
       "      <th>composer</th>\n",
       "    </tr>\n",
       "  </thead>\n",
       "  <tbody>\n",
       "    <tr>\n",
       "      <th>0</th>\n",
       "      <td>003706b_.mid</td>\n",
       "      <td>5</td>\n",
       "      <td>1024</td>\n",
       "      <td>46.956456</td>\n",
       "      <td>304</td>\n",
       "      <td>6.474083</td>\n",
       "      <td>96.0</td>\n",
       "      <td>9.0</td>\n",
       "      <td>4/4 at 0.00 seconds</td>\n",
       "      <td>92.000129</td>\n",
       "      <td>Bach</td>\n",
       "    </tr>\n",
       "    <tr>\n",
       "      <th>1</th>\n",
       "      <td>003806b_.mid</td>\n",
       "      <td>5</td>\n",
       "      <td>1024</td>\n",
       "      <td>45.000610</td>\n",
       "      <td>253</td>\n",
       "      <td>5.622222</td>\n",
       "      <td>96.0</td>\n",
       "      <td>21.0</td>\n",
       "      <td>4/4 at 0.00 seconds</td>\n",
       "      <td>96.000000</td>\n",
       "      <td>Bach</td>\n",
       "    </tr>\n",
       "    <tr>\n",
       "      <th>2</th>\n",
       "      <td>003907bv.mid</td>\n",
       "      <td>5</td>\n",
       "      <td>1024</td>\n",
       "      <td>42.500610</td>\n",
       "      <td>285</td>\n",
       "      <td>6.705882</td>\n",
       "      <td>96.0</td>\n",
       "      <td>7.0</td>\n",
       "      <td>4/4 at 0.00 seconds</td>\n",
       "      <td>96.000000</td>\n",
       "      <td>Bach</td>\n",
       "    </tr>\n",
       "    <tr>\n",
       "      <th>3</th>\n",
       "      <td>003907b_.mid</td>\n",
       "      <td>5</td>\n",
       "      <td>1024</td>\n",
       "      <td>42.500610</td>\n",
       "      <td>285</td>\n",
       "      <td>6.705882</td>\n",
       "      <td>96.0</td>\n",
       "      <td>10.0</td>\n",
       "      <td>4/4 at 0.00 seconds</td>\n",
       "      <td>96.000000</td>\n",
       "      <td>Bach</td>\n",
       "    </tr>\n",
       "    <tr>\n",
       "      <th>4</th>\n",
       "      <td>004003b_.mid</td>\n",
       "      <td>5</td>\n",
       "      <td>1024</td>\n",
       "      <td>30.000000</td>\n",
       "      <td>204</td>\n",
       "      <td>6.800000</td>\n",
       "      <td>96.0</td>\n",
       "      <td>19.0</td>\n",
       "      <td>4/4 at 0.00 seconds</td>\n",
       "      <td>96.000000</td>\n",
       "      <td>Bach</td>\n",
       "    </tr>\n",
       "  </tbody>\n",
       "</table>\n",
       "</div>"
      ],
      "text/plain": [
       "      file_name  num_tracks  ticks_per_beat     length  num_notes  \\\n",
       "0  003706b_.mid           5            1024  46.956456        304   \n",
       "1  003806b_.mid           5            1024  45.000610        253   \n",
       "2  003907bv.mid           5            1024  42.500610        285   \n",
       "3  003907b_.mid           5            1024  42.500610        285   \n",
       "4  004003b_.mid           5            1024  30.000000        204   \n",
       "\n",
       "   note_density  avg_velocity  key_signature       time_signature      tempo  \\\n",
       "0      6.474083          96.0            9.0  4/4 at 0.00 seconds  92.000129   \n",
       "1      5.622222          96.0           21.0  4/4 at 0.00 seconds  96.000000   \n",
       "2      6.705882          96.0            7.0  4/4 at 0.00 seconds  96.000000   \n",
       "3      6.705882          96.0           10.0  4/4 at 0.00 seconds  96.000000   \n",
       "4      6.800000          96.0           19.0  4/4 at 0.00 seconds  96.000000   \n",
       "\n",
       "  composer  \n",
       "0     Bach  \n",
       "1     Bach  \n",
       "2     Bach  \n",
       "3     Bach  \n",
       "4     Bach  "
      ]
     },
     "execution_count": 21,
     "metadata": {},
     "output_type": "execute_result"
    }
   ],
   "source": [
    "all_composers_df.head()"
   ]
  },
  {
   "cell_type": "code",
   "execution_count": 25,
   "metadata": {},
   "outputs": [
    {
     "name": "stdout",
     "output_type": "stream",
     "text": [
      "Min: 1\n",
      "Max: 1\n"
     ]
    }
   ],
   "source": [
    "# getting the unique value counts of the file_name column\n",
    "\n",
    "all_composers_df['file_name'].value_counts()\n",
    "\n",
    "# printing the min and the max value counts of the file_name column\n",
    "\n",
    "min = all_composers_df['file_name'].value_counts().min()\n",
    "max = all_composers_df['file_name'].value_counts().max()\n",
    "\n",
    "print(f\"Min: {min}\")\n",
    "print(f\"Max: {max}\")"
   ]
  },
  {
   "cell_type": "code",
   "execution_count": 22,
   "metadata": {},
   "outputs": [
    {
     "name": "stdout",
     "output_type": "stream",
     "text": [
      "<class 'pandas.core.frame.DataFrame'>\n",
      "RangeIndex: 1627 entries, 0 to 1626\n",
      "Data columns (total 11 columns):\n",
      " #   Column          Non-Null Count  Dtype  \n",
      "---  ------          --------------  -----  \n",
      " 0   file_name       1627 non-null   object \n",
      " 1   num_tracks      1627 non-null   int64  \n",
      " 2   ticks_per_beat  1627 non-null   int64  \n",
      " 3   length          1627 non-null   float64\n",
      " 4   num_notes       1627 non-null   int64  \n",
      " 5   note_density    1627 non-null   float64\n",
      " 6   avg_velocity    1627 non-null   float64\n",
      " 7   key_signature   1351 non-null   float64\n",
      " 8   time_signature  1625 non-null   object \n",
      " 9   tempo           1627 non-null   float64\n",
      " 10  composer        1627 non-null   object \n",
      "dtypes: float64(5), int64(3), object(3)\n",
      "memory usage: 139.9+ KB\n"
     ]
    }
   ],
   "source": [
    "all_composers_df.info()"
   ]
  },
  {
   "cell_type": "code",
   "execution_count": null,
   "metadata": {},
   "outputs": [],
   "source": [
    "all_composers_df.drop(columns='file_name', inplace=True)"
   ]
  },
  {
   "cell_type": "code",
   "execution_count": null,
   "metadata": {},
   "outputs": [],
   "source": [
    "all_composers_df.reset_index(drop=True, inplace=True)"
   ]
  },
  {
   "cell_type": "code",
   "execution_count": null,
   "metadata": {},
   "outputs": [],
   "source": [
    "all_composers_df.info()"
   ]
  },
  {
   "cell_type": "code",
   "execution_count": null,
   "metadata": {},
   "outputs": [],
   "source": [
    "all_composers_df.head()"
   ]
  },
  {
   "cell_type": "code",
   "execution_count": null,
   "metadata": {},
   "outputs": [],
   "source": [
    "all_composers_df['composer'].value_counts()"
   ]
  },
  {
   "cell_type": "markdown",
   "metadata": {},
   "source": [
    "Features and target assignment, encoding, Scaling, and reshaping data. "
   ]
  },
  {
   "cell_type": "code",
   "execution_count": null,
   "metadata": {},
   "outputs": [],
   "source": [
    "features = all_composers_df.drop(columns='composer')\n",
    "target = all_composers_df['composer']"
   ]
  },
  {
   "cell_type": "code",
   "execution_count": null,
   "metadata": {},
   "outputs": [],
   "source": [
    "numerical_features = features.select_dtypes(include=['int64', 'float64']).columns.tolist()\n",
    "categorical_features = features.select_dtypes(include=['object']).columns.tolist()"
   ]
  },
  {
   "cell_type": "code",
   "execution_count": null,
   "metadata": {},
   "outputs": [],
   "source": [
    "label_encoder = LabelEncoder()\n",
    "encoded_target = label_encoder.fit_transform(target)"
   ]
  },
  {
   "cell_type": "code",
   "execution_count": null,
   "metadata": {},
   "outputs": [],
   "source": [
    "column_transformer = ColumnTransformer(\n",
    "    transformers=[\n",
    "        ('numerical', StandardScaler(), numerical_features),\n",
    "        ('categorical', OneHotEncoder(), categorical_features)\n",
    "    ]\n",
    ")"
   ]
  },
  {
   "cell_type": "code",
   "execution_count": null,
   "metadata": {},
   "outputs": [],
   "source": [
    "transformed_features = column_transformer.fit_transform(features)"
   ]
  },
  {
   "cell_type": "code",
   "execution_count": null,
   "metadata": {},
   "outputs": [],
   "source": [
    "dense_transformed_features = transformed_features.toarray()"
   ]
  },
  {
   "cell_type": "code",
   "execution_count": null,
   "metadata": {},
   "outputs": [],
   "source": [
    "reshaped_features = dense_transformed_features.reshape(dense_transformed_features.shape[0], 1, dense_transformed_features.shape[1])"
   ]
  },
  {
   "cell_type": "code",
   "execution_count": null,
   "metadata": {},
   "outputs": [],
   "source": [
    "random_state = 88"
   ]
  },
  {
   "cell_type": "code",
   "execution_count": null,
   "metadata": {},
   "outputs": [],
   "source": [
    "features_train, features_test, target_train, target_test = train_test_split(reshaped_features, encoded_target, test_size=0.3, random_state=random_state )"
   ]
  },
  {
   "cell_type": "markdown",
   "metadata": {},
   "source": [
    "Model Architecture"
   ]
  },
  {
   "cell_type": "code",
   "execution_count": null,
   "metadata": {},
   "outputs": [],
   "source": [
    "model = Sequential()"
   ]
  },
  {
   "cell_type": "code",
   "execution_count": null,
   "metadata": {},
   "outputs": [],
   "source": [
    "model.add(LSTM(50, activation='relu', input_shape=(1, dense_transformed_features.shape[1])))\n",
    "model.add(Dropout(0.2))\n",
    "\n",
    "# Add dense layers\n",
    "model.add(Dense(100, activation='relu'))\n",
    "model.add(Dropout(0.2))\n",
    "model.add(Dense(len(np.unique(encoded_target)), activation='softmax'))"
   ]
  },
  {
   "cell_type": "code",
   "execution_count": null,
   "metadata": {},
   "outputs": [],
   "source": [
    "model.compile(optimizer='adam', loss='sparse_categorical_crossentropy', metrics=['accuracy'])"
   ]
  },
  {
   "cell_type": "code",
   "execution_count": null,
   "metadata": {},
   "outputs": [],
   "source": [
    "model.summary()"
   ]
  },
  {
   "cell_type": "code",
   "execution_count": null,
   "metadata": {},
   "outputs": [],
   "source": [
    "history = model.fit(features_train, target_train, epochs=70, batch_size=32, validation_data=(features_test, target_test))"
   ]
  },
  {
   "cell_type": "code",
   "execution_count": null,
   "metadata": {},
   "outputs": [],
   "source": [
    "loss, accuracy = model.evaluate(features_test, target_test)\n",
    "print(f'Test Accuracy: {accuracy:.4f}')"
   ]
  },
  {
   "cell_type": "code",
   "execution_count": null,
   "metadata": {},
   "outputs": [],
   "source": [
    "plt.plot(history.history['loss'], label='Training Loss')\n",
    "plt.plot(history.history['val_loss'], label='Validation Loss')\n",
    "plt.title('Model Loss')\n",
    "plt.xlabel('Epoch')\n",
    "plt.ylabel('Loss')\n",
    "plt.legend()\n",
    "plt.show()"
   ]
  },
  {
   "cell_type": "markdown",
   "metadata": {},
   "source": [
    "Working on dashboard: "
   ]
  },
  {
   "cell_type": "code",
   "execution_count": null,
   "metadata": {},
   "outputs": [],
   "source": [
    "joblib.dump(model, 'draft_lstm.pkl')\n",
    "\n",
    "joblib.dump(column_transformer, 'column_transfomer.pkl')"
   ]
  },
  {
   "cell_type": "code",
   "execution_count": null,
   "metadata": {},
   "outputs": [],
   "source": [
    "modelo = load_model('draft_lstm.h5')"
   ]
  }
 ],
 "metadata": {
  "kernelspec": {
   "display_name": "tf",
   "language": "python",
   "name": "python3"
  },
  "language_info": {
   "codemirror_mode": {
    "name": "ipython",
    "version": 3
   },
   "file_extension": ".py",
   "mimetype": "text/x-python",
   "name": "python",
   "nbconvert_exporter": "python",
   "pygments_lexer": "ipython3",
   "version": "3.8.15"
  }
 },
 "nbformat": 4,
 "nbformat_minor": 2
}
