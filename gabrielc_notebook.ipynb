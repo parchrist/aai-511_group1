{
 "cells": [
  {
   "cell_type": "code",
   "execution_count": 25,
   "metadata": {},
   "outputs": [],
   "source": [
    "import pandas as pd\n",
    "import numpy as np\n",
    "import seaborn as sns\n",
    "import matplotlib.pyplot as plt\n",
    "%matplotlib inline\n",
    "plt.style.use('fivethirtyeight')\n",
    "sns.set_theme(style='whitegrid', palette='deep')\n",
    "\n",
    "import os\n",
    "import mido\n",
    "import pretty_midi as pm\n",
    "\n",
    "from sklearn.model_selection import train_test_split\n",
    "from sklearn.preprocessing import LabelEncoder, StandardScaler, OneHotEncoder\n",
    "from sklearn.compose import ColumnTransformer\n",
    "from sklearn.pipeline import Pipeline\n",
    "from tensorflow.keras.models import Sequential, load_model\n",
    "from tensorflow.keras.layers import LSTM, Dense, Dropout\n",
    "\n",
    "import tensorflow as tf\n",
    "# import torch as pt\n",
    "import joblib\n",
    "import streamlit as st\n",
    "\n",
    "import warnings\n",
    "warnings.filterwarnings('ignore', category=FutureWarning)"
   ]
  },
  {
   "cell_type": "markdown",
   "metadata": {},
   "source": [
    "Things to check: \n",
    "- are all midi files being pulled "
   ]
  },
  {
   "cell_type": "code",
   "execution_count": 26,
   "metadata": {},
   "outputs": [
    {
     "name": "stderr",
     "output_type": "stream",
     "text": [
      "c:\\Users\\gabri\\anaconda3\\envs\\tf\\lib\\site-packages\\pretty_midi\\pretty_midi.py:100: RuntimeWarning: Tempo, Key or Time signature change events found on non-zero tracks.  This is not a valid type 0 or type 1 MIDI file.  Tempo, Key or Time Signature may be wrong.\n",
      "  warnings.warn(\n"
     ]
    },
    {
     "name": "stdout",
     "output_type": "stream",
     "text": [
      "Bach DataFrame:\n",
      "      file_name  num_tracks  ticks_per_beat     length  num_notes  \\\n",
      "0  003706b_.mid           5            1024  46.956456        304   \n",
      "1  003806b_.mid           5            1024  45.000610        253   \n",
      "2  003907bv.mid           5            1024  42.500610        285   \n",
      "3  003907b_.mid           5            1024  42.500610        285   \n",
      "4  004003b_.mid           5            1024  30.000000        204   \n",
      "\n",
      "   note_density  avg_velocity  key_signature       time_signature      tempo  \\\n",
      "0      6.474083          96.0            9.0  4/4 at 0.00 seconds  92.000129   \n",
      "1      5.622222          96.0           21.0  4/4 at 0.00 seconds  96.000000   \n",
      "2      6.705882          96.0            7.0  4/4 at 0.00 seconds  96.000000   \n",
      "3      6.705882          96.0           10.0  4/4 at 0.00 seconds  96.000000   \n",
      "4      6.800000          96.0           19.0  4/4 at 0.00 seconds  96.000000   \n",
      "\n",
      "  composer  \n",
      "0     Bach  \n",
      "1     Bach  \n",
      "2     Bach  \n",
      "3     Bach  \n",
      "4     Bach  \n",
      "Error processing file C:\\Users\\gabri\\OneDrive\\Desktop\\MSAAI\\AAI-511\\aai-511_group1\\midiclassics\\Beethoven\\Anhang 14-3.mid: Could not decode key with 3 flats and mode 255\n"
     ]
    },
    {
     "name": "stderr",
     "output_type": "stream",
     "text": [
      "c:\\Users\\gabri\\anaconda3\\envs\\tf\\lib\\site-packages\\pretty_midi\\pretty_midi.py:100: RuntimeWarning: Tempo, Key or Time signature change events found on non-zero tracks.  This is not a valid type 0 or type 1 MIDI file.  Tempo, Key or Time Signature may be wrong.\n",
      "  warnings.warn(\n"
     ]
    },
    {
     "name": "stdout",
     "output_type": "stream",
     "text": [
      "Beethoven DataFrame:\n",
      "                      file_name  num_tracks  ticks_per_beat      length  \\\n",
      "0  32 Variations on a theme.mid           4             480  618.942806   \n",
      "1        Andante in F Major.mid           3             192  250.500000   \n",
      "2               Anh06 Rondo.mid           4             120  336.875269   \n",
      "3  Anh08Nb1 Gavotte 4 hands.mid           6             120  167.176113   \n",
      "4       Bagatella Fur Elise.mid           7             120  131.096678   \n",
      "\n",
      "   num_notes  note_density  avg_velocity  key_signature       time_signature  \\\n",
      "0       7318     11.823386     69.349412            0.0  3/4 at 0.00 seconds   \n",
      "1       4323     17.257485     52.873236            5.0  3/8 at 0.00 seconds   \n",
      "2       4438     13.174015     77.954484           10.0  6/8 at 0.00 seconds   \n",
      "3       1571      9.397276     63.513686            5.0  4/4 at 0.00 seconds   \n",
      "4        950      7.246560     81.637895            0.0  3/4 at 0.00 seconds   \n",
      "\n",
      "        tempo   composer  \n",
      "0  120.000000  Beethoven  \n",
      "1   80.000000  Beethoven  \n",
      "2  143.999885  Beethoven  \n",
      "3  100.000000  Beethoven  \n",
      "4  159.000207  Beethoven  \n"
     ]
    },
    {
     "name": "stderr",
     "output_type": "stream",
     "text": [
      "c:\\Users\\gabri\\anaconda3\\envs\\tf\\lib\\site-packages\\pretty_midi\\pretty_midi.py:100: RuntimeWarning: Tempo, Key or Time signature change events found on non-zero tracks.  This is not a valid type 0 or type 1 MIDI file.  Tempo, Key or Time Signature may be wrong.\n",
      "  warnings.warn(\n"
     ]
    },
    {
     "name": "stdout",
     "output_type": "stream",
     "text": [
      "Chopin DataFrame:\n",
      "                                           file_name  num_tracks  \\\n",
      "0   (2542)Prelude opus.28, No.16 in B flat minor.mid           2   \n",
      "1  19 Polish Songs, for Solo Voice and Piano acco...           3   \n",
      "2  19 Polish Songs, for Solo Voice and Piano acco...           3   \n",
      "3  19 Polish Songs, for Solo Voice and Piano acco...           3   \n",
      "4  19 Polish Songs, for Solo Voice and Piano acco...           3   \n",
      "\n",
      "   ticks_per_beat      length  num_notes  note_density  avg_velocity  \\\n",
      "0            1024   64.000262       1199     18.734394     63.552961   \n",
      "1             480  108.675018       1742     16.142204     97.889782   \n",
      "2             480   58.162016        669     11.527386     87.372197   \n",
      "3             480  122.586853        682      5.587330    100.079179   \n",
      "4             480  241.889534       1062      4.391190    100.000000   \n",
      "\n",
      "   key_signature       time_signature       tempo composer  \n",
      "0           22.0  6/4 at 0.00 seconds  180.000180   Chopin  \n",
      "1            NaN  6/8 at 0.00 seconds  144.053127   Chopin  \n",
      "2            NaN  2/4 at 0.00 seconds  100.031843   Chopin  \n",
      "3            NaN  3/4 at 0.00 seconds  120.007440   Chopin  \n",
      "4            NaN  2/4 at 0.00 seconds   63.003966   Chopin  \n"
     ]
    },
    {
     "name": "stderr",
     "output_type": "stream",
     "text": [
      "c:\\Users\\gabri\\anaconda3\\envs\\tf\\lib\\site-packages\\pretty_midi\\pretty_midi.py:100: RuntimeWarning: Tempo, Key or Time signature change events found on non-zero tracks.  This is not a valid type 0 or type 1 MIDI file.  Tempo, Key or Time Signature may be wrong.\n",
      "  warnings.warn(\n"
     ]
    },
    {
     "name": "stdout",
     "output_type": "stream",
     "text": [
      "Error processing file C:\\Users\\gabri\\OneDrive\\Desktop\\MSAAI\\AAI-511\\aai-511_group1\\midiclassics\\Mozart\\K281 Piano Sonata n03 3mov.mid: Could not decode key with 2 flats and mode 2\n",
      "Mozart DataFrame:\n",
      "                           file_name  num_tracks  ticks_per_beat      length  \\\n",
      "0        A piece for Piano,K.176.mid           4             240  116.503280   \n",
      "1               Adagio in B flat.mid           6             480  716.505484   \n",
      "2  Another piece for Piano,K.176.mid           4             240  128.892212   \n",
      "3                 Contradance n1.mid           3             120   34.904511   \n",
      "4                 Contradance n2.mid           3             120   59.256950   \n",
      "\n",
      "   num_notes  note_density  avg_velocity  key_signature       time_signature  \\\n",
      "0        881      7.577629     64.000000            NaN  3/4 at 0.00 seconds   \n",
      "1       3332      4.650348     81.130552            2.0  4/4 at 0.00 seconds   \n",
      "2       1139      8.836841     64.000000            NaN  3/4 at 0.00 seconds   \n",
      "3        302      8.652177    127.000000            7.0  2/4 at 0.00 seconds   \n",
      "4        378      6.378999    127.000000            9.0  2/4 at 0.00 seconds   \n",
      "\n",
      "        tempo composer  \n",
      "0  125.000000   Mozart  \n",
      "1   35.999993   Mozart  \n",
      "2  137.999876   Mozart  \n",
      "3  110.000110   Mozart  \n",
      "4  130.000130   Mozart  \n",
      "Merged DataFrame:\n",
      "      file_name  num_tracks  ticks_per_beat     length  num_notes  \\\n",
      "0  003706b_.mid           5            1024  46.956456        304   \n",
      "1  003806b_.mid           5            1024  45.000610        253   \n",
      "2  003907bv.mid           5            1024  42.500610        285   \n",
      "3  003907b_.mid           5            1024  42.500610        285   \n",
      "4  004003b_.mid           5            1024  30.000000        204   \n",
      "\n",
      "   note_density  avg_velocity  key_signature       time_signature      tempo  \\\n",
      "0      6.474083          96.0            9.0  4/4 at 0.00 seconds  92.000129   \n",
      "1      5.622222          96.0           21.0  4/4 at 0.00 seconds  96.000000   \n",
      "2      6.705882          96.0            7.0  4/4 at 0.00 seconds  96.000000   \n",
      "3      6.705882          96.0           10.0  4/4 at 0.00 seconds  96.000000   \n",
      "4      6.800000          96.0           19.0  4/4 at 0.00 seconds  96.000000   \n",
      "\n",
      "  composer  \n",
      "0     Bach  \n",
      "1     Bach  \n",
      "2     Bach  \n",
      "3     Bach  \n",
      "4     Bach  \n"
     ]
    }
   ],
   "source": [
    "def extract_basic_features(file_path):\n",
    "    mid = mido.MidiFile(file_path)\n",
    "    features = {\n",
    "        'file_name': os.path.basename(file_path),\n",
    "        'num_tracks': len(mid.tracks),\n",
    "        'ticks_per_beat': mid.ticks_per_beat,\n",
    "        'length': mid.length,\n",
    "    }\n",
    "    return features\n",
    "\n",
    "def extract_pretty_midi_features(file_path):\n",
    "    midi_data = pm.PrettyMIDI(file_path)\n",
    "    features = {\n",
    "        'num_notes': sum(len(instrument.notes) for instrument in midi_data.instruments),\n",
    "        'note_density': sum(len(instrument.notes) for instrument in midi_data.instruments) / midi_data.get_end_time(),\n",
    "        'avg_velocity': (sum(note.velocity for instrument in midi_data.instruments for note in instrument.notes) /\n",
    "                         sum(len(instrument.notes) for instrument in midi_data.instruments)),\n",
    "        'key_signature': None,\n",
    "        'time_signature': None,\n",
    "        'tempo': None\n",
    "    }\n",
    "    \n",
    "    if midi_data.key_signature_changes:\n",
    "        try:\n",
    "            features['key_signature'] = midi_data.key_signature_changes[0].key_number\n",
    "        except KeyError:\n",
    "            features['key_signature'] = 'Unknown'\n",
    "    \n",
    "    if midi_data.time_signature_changes:\n",
    "        features['time_signature'] = str(midi_data.time_signature_changes[0])\n",
    "    \n",
    "    if midi_data.get_tempo_changes()[1].size > 0:\n",
    "        features['tempo'] = midi_data.get_tempo_changes()[1][0]\n",
    "    \n",
    "    return features\n",
    "\n",
    "def get_composer_from_filename(file_path):\n",
    "    return os.path.basename(file_path).split('_')[0]\n",
    "\n",
    "def load_midi_files_to_dataframe(directory_path, composer):\n",
    "    midi_files = [os.path.join(directory_path, f) for f in os.listdir(directory_path) if f.endswith('.mid')]\n",
    "    data = []\n",
    "    for file in midi_files:\n",
    "        try:\n",
    "            basic_features = extract_basic_features(file)\n",
    "            pretty_midi_features = extract_pretty_midi_features(file)\n",
    "            features = {**basic_features, **pretty_midi_features, 'composer': composer}\n",
    "            data.append(features)\n",
    "        except Exception as e:\n",
    "            print(f\"Error processing file {file}: {e}\")\n",
    "    df = pd.DataFrame(data)\n",
    "    return df\n",
    "\n",
    "# Specify the parent directory containing composer folders\n",
    "parent_directory = 'C:\\\\Users\\\\gabri\\\\OneDrive\\\\Desktop\\\\MSAAI\\\\AAI-511\\\\aai-511_group1\\\\midiclassics'\n",
    "\n",
    "# List of composers (folder names)\n",
    "composers = ['Bach', 'Beethoven', 'Chopin', 'Mozart']\n",
    "\n",
    "# Dictionary to hold DataFrames for each composer\n",
    "composer_dataframes = {}\n",
    "\n",
    "# Process each composer's folder\n",
    "for composer in composers:\n",
    "    composer_folder = os.path.join(parent_directory, composer)\n",
    "    composer_df = load_midi_files_to_dataframe(composer_folder, composer)\n",
    "    composer_dataframes[composer] = composer_df\n",
    "    print(f\"{composer} DataFrame:\")\n",
    "    print(composer_df.head())\n",
    "\n",
    "# Merge all DataFrames into a single DataFrame\n",
    "all_composers_df = pd.concat(composer_dataframes.values(), ignore_index=True)\n",
    "\n",
    "# Display the merged DataFrame\n",
    "print(\"Merged DataFrame:\")\n",
    "print(all_composers_df.head())"
   ]
  },
  {
   "cell_type": "code",
   "execution_count": 27,
   "metadata": {},
   "outputs": [
    {
     "data": {
      "text/html": [
       "<div>\n",
       "<style scoped>\n",
       "    .dataframe tbody tr th:only-of-type {\n",
       "        vertical-align: middle;\n",
       "    }\n",
       "\n",
       "    .dataframe tbody tr th {\n",
       "        vertical-align: top;\n",
       "    }\n",
       "\n",
       "    .dataframe thead th {\n",
       "        text-align: right;\n",
       "    }\n",
       "</style>\n",
       "<table border=\"1\" class=\"dataframe\">\n",
       "  <thead>\n",
       "    <tr style=\"text-align: right;\">\n",
       "      <th></th>\n",
       "      <th>file_name</th>\n",
       "      <th>num_tracks</th>\n",
       "      <th>ticks_per_beat</th>\n",
       "      <th>length</th>\n",
       "      <th>num_notes</th>\n",
       "      <th>note_density</th>\n",
       "      <th>avg_velocity</th>\n",
       "      <th>key_signature</th>\n",
       "      <th>time_signature</th>\n",
       "      <th>tempo</th>\n",
       "      <th>composer</th>\n",
       "    </tr>\n",
       "  </thead>\n",
       "  <tbody>\n",
       "    <tr>\n",
       "      <th>0</th>\n",
       "      <td>003706b_.mid</td>\n",
       "      <td>5</td>\n",
       "      <td>1024</td>\n",
       "      <td>46.956456</td>\n",
       "      <td>304</td>\n",
       "      <td>6.474083</td>\n",
       "      <td>96.0</td>\n",
       "      <td>9.0</td>\n",
       "      <td>4/4 at 0.00 seconds</td>\n",
       "      <td>92.000129</td>\n",
       "      <td>Bach</td>\n",
       "    </tr>\n",
       "    <tr>\n",
       "      <th>1</th>\n",
       "      <td>003806b_.mid</td>\n",
       "      <td>5</td>\n",
       "      <td>1024</td>\n",
       "      <td>45.000610</td>\n",
       "      <td>253</td>\n",
       "      <td>5.622222</td>\n",
       "      <td>96.0</td>\n",
       "      <td>21.0</td>\n",
       "      <td>4/4 at 0.00 seconds</td>\n",
       "      <td>96.000000</td>\n",
       "      <td>Bach</td>\n",
       "    </tr>\n",
       "    <tr>\n",
       "      <th>2</th>\n",
       "      <td>003907bv.mid</td>\n",
       "      <td>5</td>\n",
       "      <td>1024</td>\n",
       "      <td>42.500610</td>\n",
       "      <td>285</td>\n",
       "      <td>6.705882</td>\n",
       "      <td>96.0</td>\n",
       "      <td>7.0</td>\n",
       "      <td>4/4 at 0.00 seconds</td>\n",
       "      <td>96.000000</td>\n",
       "      <td>Bach</td>\n",
       "    </tr>\n",
       "    <tr>\n",
       "      <th>3</th>\n",
       "      <td>003907b_.mid</td>\n",
       "      <td>5</td>\n",
       "      <td>1024</td>\n",
       "      <td>42.500610</td>\n",
       "      <td>285</td>\n",
       "      <td>6.705882</td>\n",
       "      <td>96.0</td>\n",
       "      <td>10.0</td>\n",
       "      <td>4/4 at 0.00 seconds</td>\n",
       "      <td>96.000000</td>\n",
       "      <td>Bach</td>\n",
       "    </tr>\n",
       "    <tr>\n",
       "      <th>4</th>\n",
       "      <td>004003b_.mid</td>\n",
       "      <td>5</td>\n",
       "      <td>1024</td>\n",
       "      <td>30.000000</td>\n",
       "      <td>204</td>\n",
       "      <td>6.800000</td>\n",
       "      <td>96.0</td>\n",
       "      <td>19.0</td>\n",
       "      <td>4/4 at 0.00 seconds</td>\n",
       "      <td>96.000000</td>\n",
       "      <td>Bach</td>\n",
       "    </tr>\n",
       "  </tbody>\n",
       "</table>\n",
       "</div>"
      ],
      "text/plain": [
       "      file_name  num_tracks  ticks_per_beat     length  num_notes  \\\n",
       "0  003706b_.mid           5            1024  46.956456        304   \n",
       "1  003806b_.mid           5            1024  45.000610        253   \n",
       "2  003907bv.mid           5            1024  42.500610        285   \n",
       "3  003907b_.mid           5            1024  42.500610        285   \n",
       "4  004003b_.mid           5            1024  30.000000        204   \n",
       "\n",
       "   note_density  avg_velocity  key_signature       time_signature      tempo  \\\n",
       "0      6.474083          96.0            9.0  4/4 at 0.00 seconds  92.000129   \n",
       "1      5.622222          96.0           21.0  4/4 at 0.00 seconds  96.000000   \n",
       "2      6.705882          96.0            7.0  4/4 at 0.00 seconds  96.000000   \n",
       "3      6.705882          96.0           10.0  4/4 at 0.00 seconds  96.000000   \n",
       "4      6.800000          96.0           19.0  4/4 at 0.00 seconds  96.000000   \n",
       "\n",
       "  composer  \n",
       "0     Bach  \n",
       "1     Bach  \n",
       "2     Bach  \n",
       "3     Bach  \n",
       "4     Bach  "
      ]
     },
     "execution_count": 27,
     "metadata": {},
     "output_type": "execute_result"
    }
   ],
   "source": [
    "all_composers_df.head()"
   ]
  },
  {
   "cell_type": "code",
   "execution_count": 28,
   "metadata": {},
   "outputs": [
    {
     "name": "stdout",
     "output_type": "stream",
     "text": [
      "<class 'pandas.core.frame.DataFrame'>\n",
      "RangeIndex: 1522 entries, 0 to 1521\n",
      "Data columns (total 11 columns):\n",
      " #   Column          Non-Null Count  Dtype  \n",
      "---  ------          --------------  -----  \n",
      " 0   file_name       1522 non-null   object \n",
      " 1   num_tracks      1522 non-null   int64  \n",
      " 2   ticks_per_beat  1522 non-null   int64  \n",
      " 3   length          1522 non-null   float64\n",
      " 4   num_notes       1522 non-null   int64  \n",
      " 5   note_density    1522 non-null   float64\n",
      " 6   avg_velocity    1522 non-null   float64\n",
      " 7   key_signature   1262 non-null   float64\n",
      " 8   time_signature  1520 non-null   object \n",
      " 9   tempo           1522 non-null   float64\n",
      " 10  composer        1522 non-null   object \n",
      "dtypes: float64(5), int64(3), object(3)\n",
      "memory usage: 130.9+ KB\n"
     ]
    }
   ],
   "source": [
    "all_composers_df.info()"
   ]
  },
  {
   "cell_type": "code",
   "execution_count": 29,
   "metadata": {},
   "outputs": [],
   "source": [
    "all_composers_df = all_composers_df.dropna()"
   ]
  },
  {
   "cell_type": "code",
   "execution_count": 30,
   "metadata": {},
   "outputs": [],
   "source": [
    "all_composers_df.drop(columns='file_name', inplace=True)"
   ]
  },
  {
   "cell_type": "code",
   "execution_count": 31,
   "metadata": {},
   "outputs": [],
   "source": [
    "all_composers_df.reset_index(drop=True, inplace=True)"
   ]
  },
  {
   "cell_type": "code",
   "execution_count": 32,
   "metadata": {},
   "outputs": [
    {
     "name": "stdout",
     "output_type": "stream",
     "text": [
      "<class 'pandas.core.frame.DataFrame'>\n",
      "RangeIndex: 1262 entries, 0 to 1261\n",
      "Data columns (total 10 columns):\n",
      " #   Column          Non-Null Count  Dtype  \n",
      "---  ------          --------------  -----  \n",
      " 0   num_tracks      1262 non-null   int64  \n",
      " 1   ticks_per_beat  1262 non-null   int64  \n",
      " 2   length          1262 non-null   float64\n",
      " 3   num_notes       1262 non-null   int64  \n",
      " 4   note_density    1262 non-null   float64\n",
      " 5   avg_velocity    1262 non-null   float64\n",
      " 6   key_signature   1262 non-null   float64\n",
      " 7   time_signature  1262 non-null   object \n",
      " 8   tempo           1262 non-null   float64\n",
      " 9   composer        1262 non-null   object \n",
      "dtypes: float64(5), int64(3), object(2)\n",
      "memory usage: 98.7+ KB\n"
     ]
    }
   ],
   "source": [
    "all_composers_df.info()"
   ]
  },
  {
   "cell_type": "code",
   "execution_count": 33,
   "metadata": {},
   "outputs": [
    {
     "data": {
      "text/html": [
       "<div>\n",
       "<style scoped>\n",
       "    .dataframe tbody tr th:only-of-type {\n",
       "        vertical-align: middle;\n",
       "    }\n",
       "\n",
       "    .dataframe tbody tr th {\n",
       "        vertical-align: top;\n",
       "    }\n",
       "\n",
       "    .dataframe thead th {\n",
       "        text-align: right;\n",
       "    }\n",
       "</style>\n",
       "<table border=\"1\" class=\"dataframe\">\n",
       "  <thead>\n",
       "    <tr style=\"text-align: right;\">\n",
       "      <th></th>\n",
       "      <th>num_tracks</th>\n",
       "      <th>ticks_per_beat</th>\n",
       "      <th>length</th>\n",
       "      <th>num_notes</th>\n",
       "      <th>note_density</th>\n",
       "      <th>avg_velocity</th>\n",
       "      <th>key_signature</th>\n",
       "      <th>time_signature</th>\n",
       "      <th>tempo</th>\n",
       "      <th>composer</th>\n",
       "    </tr>\n",
       "  </thead>\n",
       "  <tbody>\n",
       "    <tr>\n",
       "      <th>0</th>\n",
       "      <td>5</td>\n",
       "      <td>1024</td>\n",
       "      <td>46.956456</td>\n",
       "      <td>304</td>\n",
       "      <td>6.474083</td>\n",
       "      <td>96.0</td>\n",
       "      <td>9.0</td>\n",
       "      <td>4/4 at 0.00 seconds</td>\n",
       "      <td>92.000129</td>\n",
       "      <td>Bach</td>\n",
       "    </tr>\n",
       "    <tr>\n",
       "      <th>1</th>\n",
       "      <td>5</td>\n",
       "      <td>1024</td>\n",
       "      <td>45.000610</td>\n",
       "      <td>253</td>\n",
       "      <td>5.622222</td>\n",
       "      <td>96.0</td>\n",
       "      <td>21.0</td>\n",
       "      <td>4/4 at 0.00 seconds</td>\n",
       "      <td>96.000000</td>\n",
       "      <td>Bach</td>\n",
       "    </tr>\n",
       "    <tr>\n",
       "      <th>2</th>\n",
       "      <td>5</td>\n",
       "      <td>1024</td>\n",
       "      <td>42.500610</td>\n",
       "      <td>285</td>\n",
       "      <td>6.705882</td>\n",
       "      <td>96.0</td>\n",
       "      <td>7.0</td>\n",
       "      <td>4/4 at 0.00 seconds</td>\n",
       "      <td>96.000000</td>\n",
       "      <td>Bach</td>\n",
       "    </tr>\n",
       "    <tr>\n",
       "      <th>3</th>\n",
       "      <td>5</td>\n",
       "      <td>1024</td>\n",
       "      <td>42.500610</td>\n",
       "      <td>285</td>\n",
       "      <td>6.705882</td>\n",
       "      <td>96.0</td>\n",
       "      <td>10.0</td>\n",
       "      <td>4/4 at 0.00 seconds</td>\n",
       "      <td>96.000000</td>\n",
       "      <td>Bach</td>\n",
       "    </tr>\n",
       "    <tr>\n",
       "      <th>4</th>\n",
       "      <td>5</td>\n",
       "      <td>1024</td>\n",
       "      <td>30.000000</td>\n",
       "      <td>204</td>\n",
       "      <td>6.800000</td>\n",
       "      <td>96.0</td>\n",
       "      <td>19.0</td>\n",
       "      <td>4/4 at 0.00 seconds</td>\n",
       "      <td>96.000000</td>\n",
       "      <td>Bach</td>\n",
       "    </tr>\n",
       "  </tbody>\n",
       "</table>\n",
       "</div>"
      ],
      "text/plain": [
       "   num_tracks  ticks_per_beat     length  num_notes  note_density  \\\n",
       "0           5            1024  46.956456        304      6.474083   \n",
       "1           5            1024  45.000610        253      5.622222   \n",
       "2           5            1024  42.500610        285      6.705882   \n",
       "3           5            1024  42.500610        285      6.705882   \n",
       "4           5            1024  30.000000        204      6.800000   \n",
       "\n",
       "   avg_velocity  key_signature       time_signature      tempo composer  \n",
       "0          96.0            9.0  4/4 at 0.00 seconds  92.000129     Bach  \n",
       "1          96.0           21.0  4/4 at 0.00 seconds  96.000000     Bach  \n",
       "2          96.0            7.0  4/4 at 0.00 seconds  96.000000     Bach  \n",
       "3          96.0           10.0  4/4 at 0.00 seconds  96.000000     Bach  \n",
       "4          96.0           19.0  4/4 at 0.00 seconds  96.000000     Bach  "
      ]
     },
     "execution_count": 33,
     "metadata": {},
     "output_type": "execute_result"
    }
   ],
   "source": [
    "all_composers_df.head()"
   ]
  },
  {
   "cell_type": "code",
   "execution_count": 34,
   "metadata": {},
   "outputs": [
    {
     "data": {
      "text/plain": [
       "composer\n",
       "Bach         777\n",
       "Mozart       196\n",
       "Beethoven    189\n",
       "Chopin       100\n",
       "Name: count, dtype: int64"
      ]
     },
     "execution_count": 34,
     "metadata": {},
     "output_type": "execute_result"
    }
   ],
   "source": [
    "all_composers_df['composer'].value_counts()"
   ]
  },
  {
   "cell_type": "markdown",
   "metadata": {},
   "source": [
    "Features and target assignment, encoding, Scaling, and reshaping data. "
   ]
  },
  {
   "cell_type": "code",
   "execution_count": 35,
   "metadata": {},
   "outputs": [],
   "source": [
    "features = all_composers_df.drop(columns='composer')\n",
    "target = all_composers_df['composer']"
   ]
  },
  {
   "cell_type": "code",
   "execution_count": 36,
   "metadata": {},
   "outputs": [],
   "source": [
    "numerical_features = features.select_dtypes(include=['int64', 'float64']).columns.tolist()\n",
    "categorical_features = features.select_dtypes(include=['object']).columns.tolist()"
   ]
  },
  {
   "cell_type": "code",
   "execution_count": 37,
   "metadata": {},
   "outputs": [],
   "source": [
    "label_encoder = LabelEncoder()\n",
    "encoded_target = label_encoder.fit_transform(target)"
   ]
  },
  {
   "cell_type": "code",
   "execution_count": 38,
   "metadata": {},
   "outputs": [],
   "source": [
    "column_transformer = ColumnTransformer(\n",
    "    transformers=[\n",
    "        ('numerical', StandardScaler(), numerical_features),\n",
    "        ('categorical', OneHotEncoder(), categorical_features)\n",
    "    ]\n",
    ")"
   ]
  },
  {
   "cell_type": "code",
   "execution_count": 39,
   "metadata": {},
   "outputs": [],
   "source": [
    "transformed_features = column_transformer.fit_transform(features)"
   ]
  },
  {
   "cell_type": "code",
   "execution_count": 40,
   "metadata": {},
   "outputs": [],
   "source": [
    "dense_transformed_features = transformed_features.toarray()"
   ]
  },
  {
   "cell_type": "code",
   "execution_count": 41,
   "metadata": {},
   "outputs": [],
   "source": [
    "reshaped_features = dense_transformed_features.reshape(dense_transformed_features.shape[0], 1, dense_transformed_features.shape[1])"
   ]
  },
  {
   "cell_type": "code",
   "execution_count": 42,
   "metadata": {},
   "outputs": [],
   "source": [
    "random_state = 88"
   ]
  },
  {
   "cell_type": "code",
   "execution_count": 43,
   "metadata": {},
   "outputs": [],
   "source": [
    "features_train, features_test, target_train, target_test = train_test_split(reshaped_features, encoded_target, test_size=0.3, random_state=random_state )"
   ]
  },
  {
   "cell_type": "markdown",
   "metadata": {},
   "source": [
    "Model Architecture"
   ]
  },
  {
   "cell_type": "code",
   "execution_count": 51,
   "metadata": {},
   "outputs": [],
   "source": [
    "model = Sequential()"
   ]
  },
  {
   "cell_type": "code",
   "execution_count": 52,
   "metadata": {},
   "outputs": [],
   "source": [
    "model.add(LSTM(50, activation='relu', input_shape=(1, dense_transformed_features.shape[1])))\n",
    "model.add(Dropout(0.2))\n",
    "\n",
    "# Add dense layers\n",
    "model.add(Dense(100, activation='relu'))\n",
    "model.add(Dropout(0.2))\n",
    "model.add(Dense(len(np.unique(encoded_target)), activation='softmax'))"
   ]
  },
  {
   "cell_type": "code",
   "execution_count": 53,
   "metadata": {},
   "outputs": [],
   "source": [
    "model.compile(optimizer='adam', loss='sparse_categorical_crossentropy', metrics=['accuracy'])"
   ]
  },
  {
   "cell_type": "code",
   "execution_count": 54,
   "metadata": {},
   "outputs": [
    {
     "name": "stdout",
     "output_type": "stream",
     "text": [
      "Model: \"sequential_1\"\n",
      "_________________________________________________________________\n",
      " Layer (type)                Output Shape              Param #   \n",
      "=================================================================\n",
      " lstm_1 (LSTM)               (None, 50)                16800     \n",
      "                                                                 \n",
      " dropout_2 (Dropout)         (None, 50)                0         \n",
      "                                                                 \n",
      " dense_2 (Dense)             (None, 100)               5100      \n",
      "                                                                 \n",
      " dropout_3 (Dropout)         (None, 100)               0         \n",
      "                                                                 \n",
      " dense_3 (Dense)             (None, 4)                 404       \n",
      "                                                                 \n",
      "=================================================================\n",
      "Total params: 22,304\n",
      "Trainable params: 22,304\n",
      "Non-trainable params: 0\n",
      "_________________________________________________________________\n"
     ]
    }
   ],
   "source": [
    "model.summary()"
   ]
  },
  {
   "cell_type": "code",
   "execution_count": 55,
   "metadata": {},
   "outputs": [
    {
     "name": "stdout",
     "output_type": "stream",
     "text": [
      "Epoch 1/70\n",
      "28/28 [==============================] - 1s 9ms/step - loss: 1.2514 - accuracy: 0.6036 - val_loss: 1.1155 - val_accuracy: 0.5937\n",
      "Epoch 2/70\n",
      "28/28 [==============================] - 0s 2ms/step - loss: 0.9246 - accuracy: 0.6331 - val_loss: 0.8197 - val_accuracy: 0.6042\n",
      "Epoch 3/70\n",
      "28/28 [==============================] - 0s 2ms/step - loss: 0.7383 - accuracy: 0.6614 - val_loss: 0.7382 - val_accuracy: 0.6649\n",
      "Epoch 4/70\n",
      "28/28 [==============================] - 0s 2ms/step - loss: 0.6839 - accuracy: 0.6931 - val_loss: 0.7019 - val_accuracy: 0.6966\n",
      "Epoch 5/70\n",
      "28/28 [==============================] - 0s 2ms/step - loss: 0.6607 - accuracy: 0.6818 - val_loss: 0.6803 - val_accuracy: 0.7230\n",
      "Epoch 6/70\n",
      "28/28 [==============================] - 0s 2ms/step - loss: 0.6401 - accuracy: 0.7078 - val_loss: 0.6625 - val_accuracy: 0.7414\n",
      "Epoch 7/70\n",
      "28/28 [==============================] - 0s 2ms/step - loss: 0.6239 - accuracy: 0.7282 - val_loss: 0.6459 - val_accuracy: 0.7388\n",
      "Epoch 8/70\n",
      "28/28 [==============================] - 0s 2ms/step - loss: 0.5949 - accuracy: 0.7452 - val_loss: 0.6236 - val_accuracy: 0.7414\n",
      "Epoch 9/70\n",
      "28/28 [==============================] - 0s 2ms/step - loss: 0.5759 - accuracy: 0.7384 - val_loss: 0.6114 - val_accuracy: 0.7493\n",
      "Epoch 10/70\n",
      "28/28 [==============================] - 0s 2ms/step - loss: 0.5566 - accuracy: 0.7769 - val_loss: 0.5910 - val_accuracy: 0.7546\n",
      "Epoch 11/70\n",
      "28/28 [==============================] - 0s 2ms/step - loss: 0.5412 - accuracy: 0.7633 - val_loss: 0.5889 - val_accuracy: 0.7520\n",
      "Epoch 12/70\n",
      "28/28 [==============================] - 0s 2ms/step - loss: 0.5328 - accuracy: 0.7780 - val_loss: 0.5733 - val_accuracy: 0.7573\n",
      "Epoch 13/70\n",
      "28/28 [==============================] - 0s 2ms/step - loss: 0.5190 - accuracy: 0.7701 - val_loss: 0.5626 - val_accuracy: 0.7546\n",
      "Epoch 14/70\n",
      "28/28 [==============================] - 0s 2ms/step - loss: 0.5024 - accuracy: 0.7894 - val_loss: 0.5614 - val_accuracy: 0.7573\n",
      "Epoch 15/70\n",
      "28/28 [==============================] - 0s 2ms/step - loss: 0.4888 - accuracy: 0.8075 - val_loss: 0.5454 - val_accuracy: 0.7678\n",
      "Epoch 16/70\n",
      "28/28 [==============================] - 0s 2ms/step - loss: 0.4916 - accuracy: 0.7939 - val_loss: 0.5397 - val_accuracy: 0.7625\n",
      "Epoch 17/70\n",
      "28/28 [==============================] - 0s 2ms/step - loss: 0.4751 - accuracy: 0.8063 - val_loss: 0.5406 - val_accuracy: 0.7652\n",
      "Epoch 18/70\n",
      "28/28 [==============================] - 0s 2ms/step - loss: 0.4748 - accuracy: 0.8018 - val_loss: 0.5408 - val_accuracy: 0.7678\n",
      "Epoch 19/70\n",
      "28/28 [==============================] - 0s 2ms/step - loss: 0.4562 - accuracy: 0.8120 - val_loss: 0.5305 - val_accuracy: 0.7467\n",
      "Epoch 20/70\n",
      "28/28 [==============================] - 0s 2ms/step - loss: 0.4586 - accuracy: 0.8154 - val_loss: 0.5309 - val_accuracy: 0.7573\n",
      "Epoch 21/70\n",
      "28/28 [==============================] - 0s 2ms/step - loss: 0.4548 - accuracy: 0.8222 - val_loss: 0.5294 - val_accuracy: 0.7546\n",
      "Epoch 22/70\n",
      "28/28 [==============================] - 0s 2ms/step - loss: 0.4267 - accuracy: 0.8358 - val_loss: 0.5310 - val_accuracy: 0.7599\n",
      "Epoch 23/70\n",
      "28/28 [==============================] - 0s 2ms/step - loss: 0.4339 - accuracy: 0.8199 - val_loss: 0.5252 - val_accuracy: 0.7704\n",
      "Epoch 24/70\n",
      "28/28 [==============================] - 0s 2ms/step - loss: 0.4244 - accuracy: 0.8324 - val_loss: 0.5303 - val_accuracy: 0.7599\n",
      "Epoch 25/70\n",
      "28/28 [==============================] - 0s 2ms/step - loss: 0.4261 - accuracy: 0.8267 - val_loss: 0.5274 - val_accuracy: 0.7599\n",
      "Epoch 26/70\n",
      "28/28 [==============================] - 0s 2ms/step - loss: 0.4245 - accuracy: 0.8211 - val_loss: 0.5283 - val_accuracy: 0.7678\n",
      "Epoch 27/70\n",
      "28/28 [==============================] - 0s 2ms/step - loss: 0.4161 - accuracy: 0.8279 - val_loss: 0.5268 - val_accuracy: 0.7652\n",
      "Epoch 28/70\n",
      "28/28 [==============================] - 0s 2ms/step - loss: 0.4134 - accuracy: 0.8358 - val_loss: 0.5304 - val_accuracy: 0.7599\n",
      "Epoch 29/70\n",
      "28/28 [==============================] - 0s 2ms/step - loss: 0.4186 - accuracy: 0.8245 - val_loss: 0.5314 - val_accuracy: 0.7731\n",
      "Epoch 30/70\n",
      "28/28 [==============================] - 0s 2ms/step - loss: 0.4054 - accuracy: 0.8233 - val_loss: 0.5309 - val_accuracy: 0.7625\n",
      "Epoch 31/70\n",
      "28/28 [==============================] - 0s 2ms/step - loss: 0.4045 - accuracy: 0.8403 - val_loss: 0.5234 - val_accuracy: 0.7731\n",
      "Epoch 32/70\n",
      "28/28 [==============================] - 0s 2ms/step - loss: 0.3886 - accuracy: 0.8460 - val_loss: 0.5229 - val_accuracy: 0.7731\n",
      "Epoch 33/70\n",
      "28/28 [==============================] - 0s 2ms/step - loss: 0.3952 - accuracy: 0.8358 - val_loss: 0.5238 - val_accuracy: 0.7704\n",
      "Epoch 34/70\n",
      "28/28 [==============================] - 0s 2ms/step - loss: 0.3755 - accuracy: 0.8494 - val_loss: 0.5267 - val_accuracy: 0.7784\n",
      "Epoch 35/70\n",
      "28/28 [==============================] - 0s 2ms/step - loss: 0.3733 - accuracy: 0.8482 - val_loss: 0.5270 - val_accuracy: 0.7784\n",
      "Epoch 36/70\n",
      "28/28 [==============================] - 0s 2ms/step - loss: 0.3734 - accuracy: 0.8482 - val_loss: 0.5262 - val_accuracy: 0.7836\n",
      "Epoch 37/70\n",
      "28/28 [==============================] - 0s 2ms/step - loss: 0.3781 - accuracy: 0.8381 - val_loss: 0.5410 - val_accuracy: 0.7784\n",
      "Epoch 38/70\n",
      "28/28 [==============================] - 0s 2ms/step - loss: 0.3647 - accuracy: 0.8528 - val_loss: 0.5426 - val_accuracy: 0.7731\n",
      "Epoch 39/70\n",
      "28/28 [==============================] - 0s 2ms/step - loss: 0.3751 - accuracy: 0.8369 - val_loss: 0.5316 - val_accuracy: 0.7836\n",
      "Epoch 40/70\n",
      "28/28 [==============================] - 0s 2ms/step - loss: 0.3582 - accuracy: 0.8516 - val_loss: 0.5291 - val_accuracy: 0.7836\n",
      "Epoch 41/70\n",
      "28/28 [==============================] - 0s 2ms/step - loss: 0.3495 - accuracy: 0.8482 - val_loss: 0.5338 - val_accuracy: 0.7863\n",
      "Epoch 42/70\n",
      "28/28 [==============================] - 0s 2ms/step - loss: 0.3501 - accuracy: 0.8607 - val_loss: 0.5355 - val_accuracy: 0.7863\n",
      "Epoch 43/70\n",
      "28/28 [==============================] - 0s 2ms/step - loss: 0.3543 - accuracy: 0.8448 - val_loss: 0.5443 - val_accuracy: 0.7757\n",
      "Epoch 44/70\n",
      "28/28 [==============================] - 0s 2ms/step - loss: 0.3331 - accuracy: 0.8686 - val_loss: 0.5379 - val_accuracy: 0.7810\n",
      "Epoch 45/70\n",
      "28/28 [==============================] - 0s 2ms/step - loss: 0.3478 - accuracy: 0.8505 - val_loss: 0.5340 - val_accuracy: 0.7968\n",
      "Epoch 46/70\n",
      "28/28 [==============================] - 0s 2ms/step - loss: 0.3547 - accuracy: 0.8550 - val_loss: 0.5615 - val_accuracy: 0.7863\n",
      "Epoch 47/70\n",
      "28/28 [==============================] - 0s 2ms/step - loss: 0.3447 - accuracy: 0.8664 - val_loss: 0.5667 - val_accuracy: 0.7810\n",
      "Epoch 48/70\n",
      "28/28 [==============================] - 0s 2ms/step - loss: 0.3436 - accuracy: 0.8641 - val_loss: 0.5516 - val_accuracy: 0.7968\n",
      "Epoch 49/70\n",
      "28/28 [==============================] - 0s 2ms/step - loss: 0.3476 - accuracy: 0.8562 - val_loss: 0.5585 - val_accuracy: 0.7968\n",
      "Epoch 50/70\n",
      "28/28 [==============================] - 0s 2ms/step - loss: 0.3336 - accuracy: 0.8584 - val_loss: 0.5492 - val_accuracy: 0.7968\n",
      "Epoch 51/70\n",
      "28/28 [==============================] - 0s 2ms/step - loss: 0.3266 - accuracy: 0.8720 - val_loss: 0.5575 - val_accuracy: 0.7836\n",
      "Epoch 52/70\n",
      "28/28 [==============================] - 0s 2ms/step - loss: 0.3518 - accuracy: 0.8641 - val_loss: 0.5561 - val_accuracy: 0.8021\n",
      "Epoch 53/70\n",
      "28/28 [==============================] - 0s 2ms/step - loss: 0.3494 - accuracy: 0.8528 - val_loss: 0.5555 - val_accuracy: 0.7810\n",
      "Epoch 54/70\n",
      "28/28 [==============================] - 0s 2ms/step - loss: 0.3254 - accuracy: 0.8720 - val_loss: 0.5553 - val_accuracy: 0.7916\n",
      "Epoch 55/70\n",
      "28/28 [==============================] - 0s 2ms/step - loss: 0.3277 - accuracy: 0.8664 - val_loss: 0.5671 - val_accuracy: 0.7942\n",
      "Epoch 56/70\n",
      "28/28 [==============================] - 0s 2ms/step - loss: 0.3248 - accuracy: 0.8698 - val_loss: 0.5633 - val_accuracy: 0.7942\n",
      "Epoch 57/70\n",
      "28/28 [==============================] - 0s 2ms/step - loss: 0.3256 - accuracy: 0.8584 - val_loss: 0.5623 - val_accuracy: 0.7916\n",
      "Epoch 58/70\n",
      "28/28 [==============================] - 0s 2ms/step - loss: 0.3370 - accuracy: 0.8494 - val_loss: 0.5742 - val_accuracy: 0.7942\n",
      "Epoch 59/70\n",
      "28/28 [==============================] - 0s 2ms/step - loss: 0.3116 - accuracy: 0.8630 - val_loss: 0.5710 - val_accuracy: 0.7942\n",
      "Epoch 60/70\n",
      "28/28 [==============================] - 0s 2ms/step - loss: 0.3206 - accuracy: 0.8607 - val_loss: 0.5718 - val_accuracy: 0.8021\n",
      "Epoch 61/70\n",
      "28/28 [==============================] - 0s 2ms/step - loss: 0.2946 - accuracy: 0.8788 - val_loss: 0.5701 - val_accuracy: 0.7968\n",
      "Epoch 62/70\n",
      "28/28 [==============================] - 0s 2ms/step - loss: 0.3101 - accuracy: 0.8743 - val_loss: 0.5771 - val_accuracy: 0.7968\n",
      "Epoch 63/70\n",
      "28/28 [==============================] - 0s 2ms/step - loss: 0.3090 - accuracy: 0.8754 - val_loss: 0.5896 - val_accuracy: 0.7863\n",
      "Epoch 64/70\n",
      "28/28 [==============================] - 0s 2ms/step - loss: 0.3019 - accuracy: 0.8867 - val_loss: 0.5947 - val_accuracy: 0.7942\n",
      "Epoch 65/70\n",
      "28/28 [==============================] - 0s 2ms/step - loss: 0.3013 - accuracy: 0.8935 - val_loss: 0.6031 - val_accuracy: 0.7968\n",
      "Epoch 66/70\n",
      "28/28 [==============================] - 0s 2ms/step - loss: 0.3093 - accuracy: 0.8754 - val_loss: 0.5851 - val_accuracy: 0.8127\n",
      "Epoch 67/70\n",
      "28/28 [==============================] - 0s 2ms/step - loss: 0.2958 - accuracy: 0.8732 - val_loss: 0.6010 - val_accuracy: 0.7942\n",
      "Epoch 68/70\n",
      "28/28 [==============================] - 0s 2ms/step - loss: 0.2943 - accuracy: 0.8834 - val_loss: 0.5748 - val_accuracy: 0.8074\n",
      "Epoch 69/70\n",
      "28/28 [==============================] - 0s 2ms/step - loss: 0.2941 - accuracy: 0.8834 - val_loss: 0.5962 - val_accuracy: 0.7968\n",
      "Epoch 70/70\n",
      "28/28 [==============================] - 0s 2ms/step - loss: 0.2936 - accuracy: 0.8834 - val_loss: 0.6044 - val_accuracy: 0.7968\n"
     ]
    }
   ],
   "source": [
    "history = model.fit(features_train, target_train, epochs=70, batch_size=32, validation_data=(features_test, target_test))"
   ]
  },
  {
   "cell_type": "code",
   "execution_count": 56,
   "metadata": {},
   "outputs": [
    {
     "name": "stdout",
     "output_type": "stream",
     "text": [
      "12/12 [==============================] - 0s 1ms/step - loss: 0.6044 - accuracy: 0.7968\n",
      "Test Accuracy: 0.7968\n"
     ]
    }
   ],
   "source": [
    "loss, accuracy = model.evaluate(features_test, target_test)\n",
    "print(f'Test Accuracy: {accuracy:.4f}')"
   ]
  },
  {
   "cell_type": "code",
   "execution_count": 57,
   "metadata": {},
   "outputs": [
    {
     "data": {
      "image/png": "[encoded data removed]",
      "text/plain": [
       "<Figure size 640x480 with 1 Axes>"
      ]
     },
     "metadata": {},
     "output_type": "display_data"
    }
   ],
   "source": [
    "plt.plot(history.history['loss'], label='Training Loss')\n",
    "plt.plot(history.history['val_loss'], label='Validation Loss')\n",
    "plt.title('Model Loss')\n",
    "plt.xlabel('Epoch')\n",
    "plt.ylabel('Loss')\n",
    "plt.legend()\n",
    "plt.show()"
   ]
  },
  {
   "cell_type": "markdown",
   "metadata": {},
   "source": [
    "Working on dashboard: "
   ]
  },
  {
   "cell_type": "code",
   "execution_count": 141,
   "metadata": {},
   "outputs": [
    {
     "name": "stdout",
     "output_type": "stream",
     "text": [
      "INFO:tensorflow:Assets written to: ram://cf1854f2-ebe0-477e-ad42-152b23048b79/assets\n"
     ]
    },
    {
     "data": {
      "text/plain": [
       "['column_transfomer.pkl']"
      ]
     },
     "execution_count": 141,
     "metadata": {},
     "output_type": "execute_result"
    }
   ],
   "source": [
    "joblib.dump(model, 'draft_lstm.pkl')\n",
    "\n",
    "joblib.dump(column_transformer, 'column_transfomer.pkl')"
   ]
  },
  {
   "cell_type": "code",
   "execution_count": null,
   "metadata": {},
   "outputs": [],
   "source": [
    "modelo = load_model('draft_lstm.h5')"
   ]
  }
 ],
 "metadata": {
  "kernelspec": {
   "display_name": "tf",
   "language": "python",
   "name": "python3"
  },
  "language_info": {
   "codemirror_mode": {
    "name": "ipython",
    "version": 3
   },
   "file_extension": ".py",
   "mimetype": "text/x-python",
   "name": "python",
   "nbconvert_exporter": "python",
   "pygments_lexer": "ipython3",
   "version": "3.9.18"
  }
 },
 "nbformat": 4,
 "nbformat_minor": 2
}
